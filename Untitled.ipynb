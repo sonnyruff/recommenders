{
 "cells": [
  {
   "cell_type": "markdown",
   "metadata": {},
   "source": [
    "# Recommender system for Netflix"
   ]
  },
  {
   "cell_type": "markdown",
   "metadata": {},
   "source": [
    "Install requirements"
   ]
  },
  {
   "cell_type": "code",
   "execution_count": 1,
   "metadata": {},
   "outputs": [
    {
     "name": "stdout",
     "output_type": "stream",
     "text": [
      "Requirement already satisfied: matplotlib in c:\\users\\sonny\\miniconda3\\lib\\site-packages (3.3.3)\n",
      "Requirement already satisfied: numpy in c:\\users\\sonny\\miniconda3\\lib\\site-packages (1.19.2)\n",
      "Collecting pandas\n",
      "  Downloading pandas-1.2.4-cp38-cp38-win_amd64.whl (9.3 MB)\n",
      "Requirement already satisfied: tqdm in c:\\users\\sonny\\miniconda3\\lib\\site-packages (4.51.0)\n",
      "Requirement already satisfied: python-dateutil>=2.1 in c:\\users\\sonny\\miniconda3\\lib\\site-packages (from matplotlib) (2.8.1)\n",
      "Requirement already satisfied: cycler>=0.10 in c:\\users\\sonny\\miniconda3\\lib\\site-packages (from matplotlib) (0.10.0)\n",
      "Requirement already satisfied: pyparsing!=2.0.4,!=2.1.2,!=2.1.6,>=2.0.3 in c:\\users\\sonny\\miniconda3\\lib\\site-packages (from matplotlib) (2.4.7)\n",
      "Requirement already satisfied: kiwisolver>=1.0.1 in c:\\users\\sonny\\miniconda3\\lib\\site-packages (from matplotlib) (1.3.1)\n",
      "Requirement already satisfied: pillow>=6.2.0 in c:\\users\\sonny\\miniconda3\\lib\\site-packages (from matplotlib) (8.0.1)\n",
      "Collecting pytz>=2017.3\n",
      "  Downloading pytz-2021.1-py2.py3-none-any.whl (510 kB)\n",
      "Requirement already satisfied: six>=1.5 in c:\\users\\sonny\\miniconda3\\lib\\site-packages (from python-dateutil>=2.1->matplotlib) (1.15.0)\n",
      "Installing collected packages: pytz, pandas\n",
      "Successfully installed pandas-1.2.4 pytz-2021.1\n"
     ]
    }
   ],
   "source": [
    "!pip install matplotlib numpy pandas tqdm"
   ]
  },
  {
   "cell_type": "code",
   "execution_count": 15,
   "metadata": {},
   "outputs": [],
   "source": [
    "import numpy as np\n",
    "import pandas as pd\n",
    "import time\n",
    "import math\n",
    "import matplotlib.pyplot as plt\n",
    "import tqdm\n",
    "import tqdm.contrib.telegram\n",
    "from numpy.random import choice\n",
    "from tqdm import tqdm, trange"
   ]
  },
  {
   "cell_type": "code",
   "execution_count": 2,
   "metadata": {},
   "outputs": [
    {
     "data": {
      "application/vnd.jupyter.widget-view+json": {
       "model_id": "698b585497c64b06814f87ce22f85a36",
       "version_major": 2,
       "version_minor": 0
      },
      "text/plain": [
       "HBox(children=(FloatProgress(value=0.0, max=90000000.0), HTML(value='')))"
      ]
     },
     "metadata": {},
     "output_type": "display_data"
    },
    {
     "name": "stdout",
     "output_type": "stream",
     "text": [
      "\n"
     ]
    }
   ],
   "source": [
    "token = \"1629051671:AAHU-Pn5KtRx36dakaQgLc7vjPV5I0mfZio\"\n",
    "chat_id = -1001390343907\n",
    "\n",
    "for i in tqdm.contrib.telegram.tqdm(range(int(9e7)), token=token, chat_id=chat_id):\n",
    "    pass"
   ]
  },
  {
   "cell_type": "code",
   "execution_count": 3,
   "metadata": {},
   "outputs": [
    {
     "name": "stdout",
     "output_type": "stream",
     "text": [
      "Finished in 7.1341 seconds\n"
     ]
    }
   ],
   "source": [
    "def timer(function):\n",
    "    start = time.perf_counter()\n",
    "    function()\n",
    "    end = time.perf_counter()\n",
    "    print(f\"Finished in {end - start:0.4f} seconds\")\n",
    "    \n",
    "def test():\n",
    "    for i in range(int(9e7)):\n",
    "        pass\n",
    "\n",
    "timer(test)"
   ]
  },
  {
   "cell_type": "markdown",
   "metadata": {},
   "source": [
    "The magic number which defines how much rows and columns we use of the full set of data."
   ]
  },
  {
   "cell_type": "code",
   "execution_count": 69,
   "metadata": {},
   "outputs": [],
   "source": [
    "LIMIT = 10"
   ]
  },
  {
   "cell_type": "code",
   "execution_count": 70,
   "metadata": {},
   "outputs": [],
   "source": [
    "# Where data is located\n",
    "movies_file = './data/movies.csv'\n",
    "users_file = './data/users.csv'\n",
    "ratings_file = './data/ratings.csv'\n",
    "predictions_file = './data/predictions.csv'\n",
    "submission_file = './data/submission.csv'\n",
    "\n",
    "\n",
    "# Read the data using pandas\n",
    "movies_description = pd.read_csv(movies_file, delimiter=';', dtype={'movieID':'int', 'year':'int', 'movie':'str'}, names=['movieID', 'year', 'movie'])\n",
    "users_description = pd.read_csv(users_file, delimiter=';', dtype={'userID':'int', 'gender':'str', 'age':'int', 'profession':'int'}, names=['userID', 'gender', 'age', 'profession'])\n",
    "ratings_description = pd.read_csv(ratings_file, delimiter=';', dtype={'userID':'int', 'movieID':'int', 'rating':'int'}, names=['userID', 'movieID', 'rating'])\n",
    "predictions_description = pd.read_csv(predictions_file, delimiter=';', names=['userID', 'movieID'], header=None)"
   ]
  },
  {
   "cell_type": "code",
   "execution_count": 71,
   "metadata": {},
   "outputs": [
    {
     "name": "stdout",
     "output_type": "stream",
     "text": [
      "        userID  movieID  rating\n",
      "78218        8        1       4\n",
      "267570       1        1       5\n",
      "274025       9        1       5\n",
      "296787       8        4       3\n",
      "604058       6        1       4\n",
      "716907       7        6       4\n"
     ]
    }
   ],
   "source": [
    "# print(movies_description.shape[0])\n",
    "# print(users_description.shape[0])\n",
    "if LIMIT > 0:\n",
    "    within_limit = (ratings_description[\"userID\"]<LIMIT) & (ratings_description[\"movieID\"]<LIMIT)\n",
    "    filtered_ratings_description = ratings_description[within_limit]\n",
    "    print(filtered_ratings_description)"
   ]
  },
  {
   "cell_type": "code",
   "execution_count": 72,
   "metadata": {},
   "outputs": [
    {
     "name": "stderr",
     "output_type": "stream",
     "text": [
      "100%|██████████████████████████████████████████████████████████████████████████████████| 6/6 [00:00<00:00, 3008.11it/s]\n"
     ]
    }
   ],
   "source": [
    "def construct_util_matrix(movies, users, ratings, predictions):\n",
    "    if LIMIT > 0:\n",
    "        M = np.zeros(shape=(LIMIT, LIMIT))\n",
    "    else:\n",
    "        M = np.zeros(shape=(users.shape[0], movies.shape[0]))\n",
    "        \n",
    "    \n",
    "    for i, row in tqdm(ratings.iterrows(), total=ratings.shape[0]):\n",
    "#     for i, row in ratings.iterrows():\n",
    "        uid = row['userID']\n",
    "        mid = row['movieID']\n",
    "        M[uid - 1, mid - 1] = row['rating']\n",
    "\n",
    "    return M\n",
    "\n",
    "if LIMIT > 0:\n",
    "    util_matrix = construct_util_matrix(movies_description, users_description, filtered_ratings_description, predictions_description)\n",
    "else:\n",
    "    util_matrix = construct_util_matrix(movies_description, users_description, ratings_description, predictions_description)"
   ]
  },
  {
   "cell_type": "code",
   "execution_count": 73,
   "metadata": {},
   "outputs": [
    {
     "name": "stdout",
     "output_type": "stream",
     "text": [
      "(10, 10)\n"
     ]
    }
   ],
   "source": [
    "print(util_matrix.shape)"
   ]
  },
  {
   "cell_type": "code",
   "execution_count": 57,
   "metadata": {},
   "outputs": [],
   "source": [
    "def compute_column_probabilities(M):\n",
    "    probabilities = np.zeros(M.shape[1])\n",
    "    \n",
    "    total = np.sum(np.square(M))\n",
    "    for i in range(M.shape[1]):\n",
    "        probabilities[i] = np.sum(np.square(M[:, i])) / total\n",
    "    \n",
    "    return probabilities\n",
    "\n",
    "def compute_row_probabilities(M):\n",
    "    probabilities = np.zeros(M.shape[0])\n",
    "    \n",
    "    total = np.sum(np.square(M))\n",
    "    for i in range(M.shape[0]):\n",
    "        probabilities[i] = np.sum(np.square(M[i, :])) / total\n",
    "    \n",
    "    return probabilities"
   ]
  },
  {
   "cell_type": "code",
   "execution_count": 58,
   "metadata": {},
   "outputs": [],
   "source": [
    "def construct_c(M, r):\n",
    "#     C = np.zeros([M.shape[0], r]) \n",
    "    \n",
    "    probs = compute_column_probabilities(M)\n",
    "    columns = np.random.choice(M.shape[1], r, p=probs)\n",
    "    \n",
    "    C = np.multiply(M[:, columns],\n",
    "                    np.sqrt(np.multiply(probs[columns], r)))\n",
    "    \n",
    "    return C, columns"
   ]
  },
  {
   "cell_type": "code",
   "execution_count": 59,
   "metadata": {},
   "outputs": [],
   "source": [
    "def construct_r(M, r):\n",
    "    \n",
    "    probs = compute_row_probabilities(M)\n",
    "    rows = np.random.choice(M.shape[0], r, p=probs)\n",
    "    \n",
    "    probsT = np.array(probs[rows])[np.newaxis].T\n",
    "    \n",
    "    R = np.multiply(M[rows, :],\n",
    "                    np.sqrt(np.multiply(probsT, r)))\n",
    "    \n",
    "    return R, rows"
   ]
  },
  {
   "cell_type": "code",
   "execution_count": 60,
   "metadata": {},
   "outputs": [],
   "source": [
    "def construct_u(M, r, rows, columns):\n",
    "#     W = np.zeros([r, r])\n",
    "    \n",
    "    W = M[:, columns][rows, :]\n",
    "    \n",
    "    # compute U from W\n",
    "    X, E, Yt = np.linalg.svd(W)\n",
    "    E =  np.linalg.pinv(np.diag(E)) ** 2\n",
    "    U = np.matmul(np.matmul(Yt.T, E), X.T)    \n",
    "    \n",
    "    return U"
   ]
  },
  {
   "cell_type": "code",
   "execution_count": 61,
   "metadata": {},
   "outputs": [],
   "source": [
    "def cur(M, r):\n",
    "    \n",
    "    C, columns = construct_c(M, r)\n",
    "    R, rows = construct_r(M, r)\n",
    "    U = construct_u(M, r, rows, columns)\n",
    "    \n",
    "    return C, U, R"
   ]
  },
  {
   "cell_type": "code",
   "execution_count": 93,
   "metadata": {},
   "outputs": [
    {
     "data": {
      "image/png": "[encoded data removed]",
      "text/plain": [
       "<Figure size 432x288 with 2 Axes>"
      ]
     },
     "metadata": {
      "needs_background": "light"
     },
     "output_type": "display_data"
    }
   ],
   "source": [
    "plt.imshow(util_matrix)\n",
    "plt.colorbar()\n",
    "plt.show()\n",
    "# plt.savefig('./M.png')"
   ]
  },
  {
   "cell_type": "code",
   "execution_count": 95,
   "metadata": {},
   "outputs": [
    {
     "data": {
      "image/png": "[encoded data removed]",
      "text/plain": [
       "<Figure size 432x288 with 2 Axes>"
      ]
     },
     "metadata": {
      "needs_background": "light"
     },
     "output_type": "display_data"
    }
   ],
   "source": [
    "C, U, R = cur(util_matrix, 1000)\n",
    "\n",
    "plt.imshow(np.matmul(np.matmul(C, U), R))\n",
    "plt.colorbar()\n",
    "plt.show()\n",
    "# plt.savefig('./CUR.png')"
   ]
  },
  {
   "cell_type": "code",
   "execution_count": null,
   "metadata": {},
   "outputs": [],
   "source": []
  }
 ],
 "metadata": {
  "kernelspec": {
   "display_name": "Python 3",
   "language": "python",
   "name": "python3"
  },
  "language_info": {
   "codemirror_mode": {
    "name": "ipython",
    "version": 3
   },
   "file_extension": ".py",
   "mimetype": "text/x-python",
   "name": "python",
   "nbconvert_exporter": "python",
   "pygments_lexer": "ipython3",
   "version": "3.8.5"
  }
 },
 "nbformat": 4,
 "nbformat_minor": 4
}
